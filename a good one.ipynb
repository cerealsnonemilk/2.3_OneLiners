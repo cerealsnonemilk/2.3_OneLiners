{
 "cells": [
  {
   "cell_type": "code",
   "execution_count": null,
   "metadata": {},
   "outputs": [],
   "source": [
    "#expr(1)\n",
    "sum(range(1, pow(2, 25) + 1))\n",
    "\n",
    "import math as m\n",
    "#expr(2)\n",
    "m.factorial(1000)\n",
    "\n",
    "#expr(3)\n",
    "list(map(lambda x: x*2 if x%2 != 0 else x, a))\n",
    "\n",
    "#expr(4)\n",
    "list(set(a) - set(b))\n",
    "\n",
    "#expr(5)\n",
    "pass\n",
    "\n",
    "'''\n",
    "#expr(6)\n",
    "len([i for i in range(1000000) if i%7 != 0 and i%2 == 0 and (i//10 == 793 or i//100 == 793 or i//1000 == 793)])\n",
    "не знаю, как сделать по-другому\n",
    "'''\n",
    "\n",
    "#expr(7)\n",
    "input()[::-1]\n",
    "\n",
    "#expr(8)\n",
    "pass\n",
    "\n",
    "#expr(9)\n",
    "pass"
   ]
  }
 ],
 "metadata": {
  "kernelspec": {
   "display_name": "Python 3",
   "language": "python",
   "name": "python3"
  },
  "language_info": {
   "codemirror_mode": {
    "name": "ipython",
    "version": 3
   },
   "file_extension": ".py",
   "mimetype": "text/x-python",
   "name": "python",
   "nbconvert_exporter": "python",
   "pygments_lexer": "ipython3",
   "version": "3.7.5"
  }
 },
 "nbformat": 4,
 "nbformat_minor": 2
}
