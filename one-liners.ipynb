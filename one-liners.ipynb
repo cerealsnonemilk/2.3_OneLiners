{
 "cells": [
  {
   "cell_type": "markdown",
   "metadata": {},
   "source": [
    "# Однострочники\n",
    "\n",
    "Решите пять задач из следующего списка. Решение каждой задачи должно состоять из одной строки длиной не больше 80 символов (`import` не входит в ограничение)\n",
    "\n",
    "Примечания:\n",
    "+ Однострочник - это не функция, это просто некоторое выражение, результатом выполнения которого является некоторое значение.\n",
    "+ Некоторые однострочники должны принимать какие-либо входные данные - это некоторые переменные. Имена и типы принимаемых переменных указаны в пояснении к соответствующей задаче.\n",
    "+ Не следует в однострочниках использовать собственные определённые ранее функции и объекты.\n",
    "+ Можно использовать функции и объекты из стандартной библиотеки. Строки `import ... [as ...]` и `from ... import ... [as ...]` не входят в ограничение.\n",
    "+ В коде всего документа не должно быть конфликтующих или ошибочных операторов `import`.\n",
    "+ Можно и нужно использовать *list comprehensions*.\n",
    "+ В строке перед соответствующим однострочником должен быть комментарий: `#expr(n)`, где `n` - номер задачи. А в остальном этот документ можно модифицировать произвольным образом.\n",
    "+ Если вы хотите пропустить какую-либо задачу - оставьте на месте неё `pass`.\n",
    "+ Это задание автоматически тестируемое. Тесты можно запустить выполнив `python3 test.py` в директории с этим документом, либо запустив код в конце этого документа (перед этим нужно сохранить документ). "
   ]
  },
  {
   "cell_type": "markdown",
   "metadata": {},
   "source": [
    "## Пример\n",
    "\n",
    "Пример однострочника, подсчитывающего в списке `a` все числа больше `n`:"
   ]
  },
  {
   "cell_type": "markdown",
   "metadata": {},
   "source": [
    "Задание входных переменных. Не требуется для тестирования, разве что для самопроверки:"
   ]
  },
  {
   "cell_type": "code",
   "execution_count": 1,
   "metadata": {},
   "outputs": [],
   "source": [
    "a = [5, 2, 7, 10, -1, -3, 0, 1, 0, -9]\n",
    "n = 1"
   ]
  },
  {
   "cell_type": "markdown",
   "metadata": {},
   "source": [
    "Непосредственно сам однострочник (только этот код необходим для тестирования):"
   ]
  },
  {
   "cell_type": "code",
   "execution_count": 2,
   "metadata": {},
   "outputs": [
    {
     "data": {
      "text/plain": [
       "4"
      ]
     },
     "execution_count": 2,
     "metadata": {},
     "output_type": "execute_result"
    }
   ],
   "source": [
    "#expr(0)\n",
    "len([x for x in a if x > n])"
   ]
  },
  {
   "cell_type": "markdown",
   "metadata": {},
   "source": [
    "Результат выполнения предыдущей ячейки содержится в переменной `_` (нижнее подчёркивание):"
   ]
  },
  {
   "cell_type": "code",
   "execution_count": 3,
   "metadata": {
    "scrolled": true
   },
   "outputs": [
    {
     "name": "stdout",
     "output_type": "stream",
     "text": [
      "list [5, 2, 7, 10, -1, -3, 0, 1, 0, -9] contains 4 numbers larger than 1\n"
     ]
    }
   ],
   "source": [
    "print(\"list {} contains {} numbers larger than {}\".format(a, _, n))"
   ]
  },
  {
   "cell_type": "markdown",
   "metadata": {},
   "source": [
    "## Задачи"
   ]
  },
  {
   "cell_type": "markdown",
   "metadata": {},
   "source": [
    "### 1. Сложить все числа от $1$ до $2^{25}$\n",
    "\n",
    "+ Результатом выполнения должно быть число типа `int`."
   ]
  },
  {
   "cell_type": "code",
   "execution_count": 27,
   "metadata": {},
   "outputs": [
    {
     "data": {
      "text/plain": [
       "562949970198528"
      ]
     },
     "execution_count": 27,
     "metadata": {},
     "output_type": "execute_result"
    }
   ],
   "source": [
    "#expr(1)\n",
    "sum([x for x in range(1,2**25+1)])"
   ]
  },
  {
   "cell_type": "markdown",
   "metadata": {},
   "source": [
    "### 2. Вычислить факториал $1000$\n",
    "\n",
    "+ Результатом выполнения должно быть число типа `int`."
   ]
  },
  {
   "cell_type": "code",
   "execution_count": 7,
   "metadata": {},
   "outputs": [
    {
     "data": {
      "text/plain": [
       "402387260077093773543702433923003985719374864210714632543799910429938512398629020592044208486969404800479988610197196058631666872994808558901323829669944590997424504087073759918823627727188732519779505950995276120874975462497043601418278094646496291056393887437886487337119181045825783647849977012476632889835955735432513185323958463075557409114262417474349347553428646576611667797396668820291207379143853719588249808126867838374559731746136085379534524221586593201928090878297308431392844403281231558611036976801357304216168747609675871348312025478589320767169132448426236131412508780208000261683151027341827977704784635868170164365024153691398281264810213092761244896359928705114964975419909342221566832572080821333186116811553615836546984046708975602900950537616475847728421889679646244945160765353408198901385442487984959953319101723355556602139450399736280750137837615307127761926849034352625200015888535147331611702103968175921510907788019393178114194545257223865541461062892187960223838971476088506276862967146674697562911234082439208160153780889893964518263243671616762179168909779911903754031274622289988005195444414282012187361745992642956581746628302955570299024324153181617210465832036786906117260158783520751516284225540265170483304226143974286933061690897968482590125458327168226458066526769958652682272807075781391858178889652208164348344825993266043367660176999612831860788386150279465955131156552036093988180612138558600301435694527224206344631797460594682573103790084024432438465657245014402821885252470935190620929023136493273497565513958720559654228749774011413346962715422845862377387538230483865688976461927383814900140767310446640259899490222221765904339901886018566526485061799702356193897017860040811889729918311021171229845901641921068884387121855646124960798722908519296819372388642614839657382291123125024186649353143970137428531926649875337218940694281434118520158014123344828015051399694290153483077644569099073152433278288269864602789864321139083506217095002597389863554277196742822248757586765752344220207573630569498825087968928162753848863396909959826280956121450994871701244516461260379029309120889086942028510640182154399457156805941872748998094254742173582401063677404595741785160829230135358081840096996372524230560855903700624271243416909004153690105933983835777939410970027753472000000000000000000000000000000000000000000000000000000000000000000000000000000000000000000000000000000000000000000000000000000000000000000000000000000000000000000000000000000000000000000000000000000000000000000000000000000000000000000000000000000000"
      ]
     },
     "execution_count": 7,
     "metadata": {},
     "output_type": "execute_result"
    }
   ],
   "source": [
    "import math\n",
    "#expr(2)\n",
    "math.factorial(1000)"
   ]
  },
  {
   "cell_type": "markdown",
   "metadata": {},
   "source": [
    "### 3. Удвоить все нечётные числа в списке\n",
    "Чётные числа остаются без изменений.\n",
    "\n",
    "+ Принимает переменную `a` типа `list` содержащий числа типа `int`. *Этот список не нужно модифицировать.*\n",
    "+ Результат выполнения - новый список, модифицированный указанным образом."
   ]
  },
  {
   "cell_type": "code",
   "execution_count": 30,
   "metadata": {},
   "outputs": [
    {
     "data": {
      "text/plain": [
       "[10, 2, 14, 10, -2, -6, 0, 2, 0, -18]"
      ]
     },
     "execution_count": 30,
     "metadata": {},
     "output_type": "execute_result"
    }
   ],
   "source": [
    "#expr(3)\n",
    "[ x if x%2==0 else 2*x for x in a]"
   ]
  },
  {
   "cell_type": "markdown",
   "metadata": {},
   "source": [
    "### 4. Найти элементы списка, отсутствующие в другом\n",
    "\n",
    "+ Принимает переменные `a` и `b` типа `list`.\n",
    "+ Возможные элементы списков - целые числа, строки либо кортежи данных объектов.\n",
    "+ Результат выполнения - список, содержащий в единственном экземпляре элементы из `a`, которых нет в `b`."
   ]
  },
  {
   "cell_type": "code",
   "execution_count": 32,
   "metadata": {},
   "outputs": [
    {
     "ename": "NameError",
     "evalue": "name 'b' is not defined",
     "output_type": "error",
     "traceback": [
      "\u001b[1;31m---------------------------------------------------------------------------\u001b[0m",
      "\u001b[1;31mNameError\u001b[0m                                 Traceback (most recent call last)",
      "\u001b[1;32m<ipython-input-32-5bb910dd8d1f>\u001b[0m in \u001b[0;36m<module>\u001b[1;34m\u001b[0m\n\u001b[0;32m      1\u001b[0m \u001b[1;31m#expr(4)\u001b[0m\u001b[1;33m\u001b[0m\u001b[1;33m\u001b[0m\u001b[0m\n\u001b[1;32m----> 2\u001b[1;33m \u001b[0mlist\u001b[0m\u001b[1;33m[\u001b[0m\u001b[1;33m{\u001b[0m\u001b[0mx\u001b[0m \u001b[1;32mfor\u001b[0m \u001b[0mx\u001b[0m \u001b[1;32min\u001b[0m \u001b[0ma\u001b[0m \u001b[1;32mif\u001b[0m \u001b[1;32mnot\u001b[0m\u001b[1;33m(\u001b[0m\u001b[0mx\u001b[0m \u001b[1;32min\u001b[0m \u001b[0mb\u001b[0m\u001b[1;33m)\u001b[0m\u001b[1;33m}\u001b[0m\u001b[1;33m]\u001b[0m\u001b[1;33m\u001b[0m\u001b[0m\n\u001b[0m",
      "\u001b[1;32m<ipython-input-32-5bb910dd8d1f>\u001b[0m in \u001b[0;36m<setcomp>\u001b[1;34m(.0)\u001b[0m\n\u001b[0;32m      1\u001b[0m \u001b[1;31m#expr(4)\u001b[0m\u001b[1;33m\u001b[0m\u001b[1;33m\u001b[0m\u001b[0m\n\u001b[1;32m----> 2\u001b[1;33m \u001b[0mlist\u001b[0m\u001b[1;33m[\u001b[0m\u001b[1;33m{\u001b[0m\u001b[0mx\u001b[0m \u001b[1;32mfor\u001b[0m \u001b[0mx\u001b[0m \u001b[1;32min\u001b[0m \u001b[0ma\u001b[0m \u001b[1;32mif\u001b[0m \u001b[1;32mnot\u001b[0m\u001b[1;33m(\u001b[0m\u001b[0mx\u001b[0m \u001b[1;32min\u001b[0m \u001b[0mb\u001b[0m\u001b[1;33m)\u001b[0m\u001b[1;33m}\u001b[0m\u001b[1;33m]\u001b[0m\u001b[1;33m\u001b[0m\u001b[0m\n\u001b[0m",
      "\u001b[1;31mNameError\u001b[0m: name 'b' is not defined"
     ]
    }
   ],
   "source": [
    "#expr(4)\n",
    "list[{x for x in a if not(x in b)}]"
   ]
  },
  {
   "cell_type": "markdown",
   "metadata": {},
   "source": [
    "### 5. Вывести названия всех клеточек поля для игры в морской бой\n",
    "\n",
    "+ Клетки для игры в морской бой имеют следующую нумерацию:\n",
    "\n",
    "|      | **A**| **B**| **C**| **D**| **E**| **F**| **G**| **H**| **I**| **J**|\n",
    "|------| -----| -----| -----| -----| -----| -----| -----| -----| -----| -----|\n",
    "|**1** |  A1  |  B1  |  C1  |  D1  |  E1  |  F1  |  G1  |  H1  |  I1  |  J1  |\n",
    "|**2** |  A2  |  B2  |  C2  |  D2  |  E2  |  F2  |  G2  |  H2  |  I2  |  J2  |\n",
    "|**3** |  A3  |  B3  |  C3  |  D3  |  E3  |  F3  |  G3  |  H3  |  I3  |  J3  |\n",
    "|**4** |  A4  |  B4  |  C4  |  D4  |  E4  |  F4  |  G4  |  H4  |  I4  |  J4  |\n",
    "|**5** |  A5  |  B5  |  C5  |  D5  |  E5  |  F5  |  G5  |  H5  |  I5  |  J5  |\n",
    "|**6** |  A6  |  B6  |  C6  |  D6  |  E6  |  F6  |  G6  |  H6  |  I6  |  J6  |\n",
    "|**7** |  A7  |  B7  |  C7  |  D7  |  E7  |  F7  |  G7  |  H7  |  I7  |  J7  |\n",
    "|**8** |  A8  |  B8  |  C8  |  D8  |  E8  |  F8  |  G8  |  H8  |  I8  |  J8  |\n",
    "|**9** |  A9  |  B9  |  C9  |  D9  |  E9  |  F9  |  G9  |  H9  |  I9  |  J9  |\n",
    "|**10**| A10  | B10  | C10  | D10  | E10  | F10  | G10  | H10  | I10  | J10  |\n",
    "\n",
    "+ Результат выполнения - список, содержащий списки соответствующих строк:\n",
    "```python\n",
    "[\n",
    "    [\"A1\", \"B1\", ..., \"J1\"],\n",
    "    [\"A2\", \"B2\", ..., \"J2\"],\n",
    "    ...,\n",
    "    [\"A10\", \"B10\", ..., \"J10\"]\n",
    "]\n",
    "```"
   ]
  },
  {
   "cell_type": "code",
   "execution_count": 33,
   "metadata": {
    "scrolled": false
   },
   "outputs": [
    {
     "data": {
      "text/plain": [
       "[['A1', 'B1', 'C1', 'D1', 'E1', 'F1', 'G1', 'H1', 'I1', 'J1'],\n",
       " ['A2', 'B2', 'C2', 'D2', 'E2', 'F2', 'G2', 'H2', 'I2', 'J2'],\n",
       " ['A3', 'B3', 'C3', 'D3', 'E3', 'F3', 'G3', 'H3', 'I3', 'J3'],\n",
       " ['A4', 'B4', 'C4', 'D4', 'E4', 'F4', 'G4', 'H4', 'I4', 'J4'],\n",
       " ['A5', 'B5', 'C5', 'D5', 'E5', 'F5', 'G5', 'H5', 'I5', 'J5'],\n",
       " ['A6', 'B6', 'C6', 'D6', 'E6', 'F6', 'G6', 'H6', 'I6', 'J6'],\n",
       " ['A7', 'B7', 'C7', 'D7', 'E7', 'F7', 'G7', 'H7', 'I7', 'J7'],\n",
       " ['A8', 'B8', 'C8', 'D8', 'E8', 'F8', 'G8', 'H8', 'I8', 'J8'],\n",
       " ['A9', 'B9', 'C9', 'D9', 'E9', 'F9', 'G9', 'H9', 'I9', 'J9'],\n",
       " ['A10', 'B10', 'C10', 'D10', 'E10', 'F10', 'G10', 'H10', 'I10', 'J10']]"
      ]
     },
     "execution_count": 33,
     "metadata": {},
     "output_type": "execute_result"
    }
   ],
   "source": [
    "#expr(5)\n",
    "[ [x + str(y) for x in \"ABCDEFGHIJ\"] for y in range(1, 11, 1)]"
   ]
  },
  {
   "cell_type": "markdown",
   "metadata": {},
   "source": [
    "### 6. Найти количество чётных чисел от $1$ до $10^6$, которые начинаются на $793$ и не кратны $7$\n",
    "\n",
    "Результат выполнения - целое число `int`."
   ]
  },
  {
   "cell_type": "code",
   "execution_count": 3,
   "metadata": {},
   "outputs": [
    {
     "data": {
      "text/plain": [
       "475"
      ]
     },
     "execution_count": 3,
     "metadata": {},
     "output_type": "execute_result"
    }
   ],
   "source": [
    "#expr(6)\n",
    "len([x for x in range(1,10**6+1,1)if(x%2==0)and(x%7!=0)and('793'==str(x)[:3])])"
   ]
  },
  {
   "cell_type": "markdown",
   "metadata": {},
   "source": [
    "### 7. Считать строчку с клавиатуры и развернуть\n",
    "\n",
    "+ Строчка с клавиатуры - имеется в виду то, что возвращает функция `input()`.\n",
    "+ Развернуть - сделать так, чтобы символы в строке шли в обратном порядке (`\"hello\" -> \"olleh\"`)\n",
    "+ Результат выполнения - строка."
   ]
  },
  {
   "cell_type": "code",
   "execution_count": 8,
   "metadata": {},
   "outputs": [
    {
     "name": "stdout",
     "output_type": "stream",
     "text": [
      "15263\n"
     ]
    },
    {
     "data": {
      "text/plain": [
       "'36251'"
      ]
     },
     "execution_count": 8,
     "metadata": {},
     "output_type": "execute_result"
    }
   ],
   "source": [
    "#expr(7)\n",
    "''.join(input()[::-1])"
   ]
  },
  {
   "cell_type": "markdown",
   "metadata": {},
   "source": [
    "### 8. Подсчитать количество букв `z` в файле\n",
    "\n",
    "+ Входные данные: `p` - строка, содержащая имя файла.\n",
    "+ Нужно учитывать букву `z` как в верхнем, так и в нижнем регистре.\n",
    "+ Результат выполнения - целое число `int`."
   ]
  },
  {
   "cell_type": "code",
   "execution_count": 2,
   "metadata": {},
   "outputs": [
    {
     "ename": "NameError",
     "evalue": "name 'p' is not defined",
     "output_type": "error",
     "traceback": [
      "\u001b[1;31m---------------------------------------------------------------------------\u001b[0m",
      "\u001b[1;31mNameError\u001b[0m                                 Traceback (most recent call last)",
      "\u001b[1;32m<ipython-input-2-cd7801a3c0a1>\u001b[0m in \u001b[0;36m<module>\u001b[1;34m\u001b[0m\n\u001b[0;32m      1\u001b[0m \u001b[1;31m#expr(8)\u001b[0m\u001b[1;33m\u001b[0m\u001b[1;33m\u001b[0m\u001b[0m\n\u001b[1;32m----> 2\u001b[1;33m \u001b[0mlen\u001b[0m\u001b[1;33m(\u001b[0m\u001b[1;33m[\u001b[0m\u001b[0mx\u001b[0m \u001b[1;32mfor\u001b[0m \u001b[0mx\u001b[0m \u001b[1;32min\u001b[0m \u001b[0mopen\u001b[0m\u001b[1;33m(\u001b[0m\u001b[0mp\u001b[0m\u001b[1;33m)\u001b[0m \u001b[1;32mif\u001b[0m \u001b[1;33m(\u001b[0m\u001b[0mx\u001b[0m \u001b[1;33m==\u001b[0m \u001b[1;34m'z'\u001b[0m\u001b[1;33m)\u001b[0m\u001b[1;32mor\u001b[0m\u001b[1;33m(\u001b[0m\u001b[0mx\u001b[0m \u001b[1;33m==\u001b[0m \u001b[1;34m\"Z\"\u001b[0m\u001b[1;33m)\u001b[0m\u001b[1;33m]\u001b[0m\u001b[1;33m)\u001b[0m\u001b[1;33m\u001b[0m\u001b[0m\n\u001b[0m",
      "\u001b[1;31mNameError\u001b[0m: name 'p' is not defined"
     ]
    }
   ],
   "source": [
    "#expr(8)\n",
    "len([x for x in open(p) if (x == 'z')or(x == \"Z\")])"
   ]
  },
  {
   "cell_type": "markdown",
   "metadata": {},
   "source": [
    "### 9. Вычислить константу $\\pi$ с точностью $20$ знаков\n",
    "\n",
    "Возвращаемое значение - строка, содержащая десятичную запись полученного приближения числа $\\pi$."
   ]
  },
  {
   "cell_type": "code",
   "execution_count": 15,
   "metadata": {},
   "outputs": [
    {
     "name": "stdout",
     "output_type": "stream",
     "text": [
      "3.1415926535897931160\n"
     ]
    }
   ],
   "source": [
    "import math\n",
    "#expr(9)\n",
    "print(\"%.19f\"%math.pi)"
   ]
  },
  {
   "cell_type": "markdown",
   "metadata": {},
   "source": [
    "## Тестирование\n",
    "\n",
    "Запустите следующую ячейку, чтобы выполнить тестирование своих решений. Как минимум 5 задач должны проходить тесты. Если вы видите результат `True`, значит тестирование прошло успешно."
   ]
  },
  {
   "cell_type": "code",
   "execution_count": 16,
   "metadata": {
    "scrolled": false
   },
   "outputs": [
    {
     "name": "stdout",
     "output_type": "stream",
     "text": [
      "found imports:\n",
      "import math\n",
      "import math\n",
      "\n",
      "[1]:\n",
      "expr: sum([x for x in range(1,2**25+1)])\n",
      "length: 34\n",
      "[OK] test passed\n",
      "\n",
      "[2]:\n",
      "expr: math.factorial(1000)\n",
      "length: 20\n",
      "[OK] test passed\n",
      "\n",
      "[3]:\n",
      "expr: [ x if x%2==0 else 2*x for x in a]\n",
      "length: 34\n",
      "[OK] test passed\n",
      "\n",
      "[4]:\n",
      "expr: list[{x for x in a if not(x in b)}]\n",
      "length: 35\n",
      "\n",
      "Traceback (most recent call last):\n",
      "  File \"H:\\program_Se\\2.3_OneLiners\\test_\\suite.py\", line 83, in run_tests\n",
      "    tests[k](v, glob)\n",
      "  File \"H:\\program_Se\\2.3_OneLiners\\test_\\cases.py\", line 72, in case_4\n",
      "    d = eval(expr, {\"a\": a, \"b\": b}, glob)\n",
      "  File \"<string>\", line 1, in <module>\n",
      "TypeError: 'type' object is not subscriptable\n",
      "\n",
      "[FAIL] test failed\n",
      "\n",
      "[5]:\n",
      "expr: [ [x + str(y) for x in \"ABCDEFGHIJ\"] for y in range(1, 11, 1)]\n",
      "length: 62\n",
      "[OK] test passed\n",
      "\n",
      "[6]:\n",
      "expr: len([x for x in range(1,10**6+1,1)if(x%2==0)and(x%7!=0)and('793'==str(x)[:3])])\n",
      "length: 79\n",
      "[OK] test passed\n",
      "\n",
      "[7]:\n",
      "expr: ''.join(input()[::-1])\n",
      "length: 22\n",
      "[OK] test passed\n",
      "\n",
      "[8]:\n",
      "expr: len([x for x in open(p) if (x == 'z')or(x == \"Z\")])\n",
      "length: 51\n",
      "\n",
      "Traceback (most recent call last):\n",
      "  File \"H:\\program_Se\\2.3_OneLiners\\test_\\suite.py\", line 83, in run_tests\n",
      "    tests[k](v, glob)\n",
      "  File \"H:\\program_Se\\2.3_OneLiners\\test_\\cases.py\", line 161, in case_8\n",
      "    m = eval(expr, {\"p\": p, \"open\": mimic}, glob)\n",
      "  File \"<string>\", line 1, in <module>\n",
      "TypeError: 'FileMimic' object is not iterable\n",
      "\n",
      "[FAIL] test failed\n",
      "\n",
      "[9]:\n",
      "expr: print(\"%.20f\"%math.pi)\n",
      "length: 22\n",
      "3.14159265358979311600\n",
      "\n",
      "Traceback (most recent call last):\n",
      "  File \"H:\\program_Se\\2.3_OneLiners\\test_\\suite.py\", line 83, in run_tests\n",
      "    tests[k](v, glob)\n",
      "  File \"H:\\program_Se\\2.3_OneLiners\\test_\\cases.py\", line 167, in case_9\n",
      "    assert pi.startswith(pi20), \"\\n{}\\n{}\".format(pi, pi20)\n",
      "AttributeError: 'NoneType' object has no attribute 'startswith'\n",
      "\n",
      "[FAIL] test failed\n",
      "\n",
      "Results:\n",
      "1: ok\n",
      "2: ok\n",
      "3: ok\n",
      "4: failed\n",
      "5: ok\n",
      "6: ok\n",
      "7: ok\n",
      "8: failed\n",
      "9: failed\n",
      "\n",
      "ok: 6, failed: 3, skipped: 0\n",
      "\n",
      "You solved 5 or more tasks, good\n"
     ]
    },
    {
     "data": {
      "text/plain": [
       "True"
      ]
     },
     "execution_count": 16,
     "metadata": {},
     "output_type": "execute_result"
    }
   ],
   "source": [
    "from test_.suite import run_tests\n",
    "run_tests(\"one-liners.ipynb\")"
   ]
  },
  {
   "cell_type": "code",
   "execution_count": null,
   "metadata": {},
   "outputs": [],
   "source": []
  }
 ],
 "metadata": {
  "kernelspec": {
   "display_name": "Python 3",
   "language": "python",
   "name": "python3"
  },
  "language_info": {
   "codemirror_mode": {
    "name": "ipython",
    "version": 3
   },
   "file_extension": ".py",
   "mimetype": "text/x-python",
   "name": "python",
   "nbconvert_exporter": "python",
   "pygments_lexer": "ipython3",
   "version": "3.7.0"
  }
 },
 "nbformat": 4,
 "nbformat_minor": 4
}
